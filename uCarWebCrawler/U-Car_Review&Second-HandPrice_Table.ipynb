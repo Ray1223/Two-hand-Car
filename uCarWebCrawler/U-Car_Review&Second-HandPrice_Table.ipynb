{
 "cells": [
  {
   "cell_type": "markdown",
   "metadata": {},
   "source": [
    "# Create UCar 二手車價格的表格"
   ]
  },
  {
   "cell_type": "code",
   "execution_count": 4,
   "metadata": {},
   "outputs": [],
   "source": [
    "# import sqlite3\n",
    "# db = sqlite3.connect(\"C:\\\\Users\\\\BIG DATA\\\\Desktop\\\\test\\\\uCarPrice.sqlite3\")\n",
    "# cur= db.cursor()\n",
    "# cur.execute(\"CREATE TABLE ucar_price(source text, url text, title text, brand text, model text, doors int, color text, gasoline text, cc int, transmission text, equip text, mileage int, years int,location text, posttime int, content text, price int, certificate text , offtime text,soldout int,type text);\")\n",
    "\n",
    "# db.commit()"
   ]
  },
  {
   "cell_type": "markdown",
   "metadata": {},
   "source": [
    "# Drop UCar 二手車價格的表格"
   ]
  },
  {
   "cell_type": "code",
   "execution_count": null,
   "metadata": {
    "collapsed": true
   },
   "outputs": [],
   "source": [
    "# import sqlite3\n",
    "# db = sqlite3.connect(\"./Newucarprice.sqlite3\")\n",
    "# cur= db.cursor()\n",
    "# cur.execute(\"Drop TABLE ucar_price)\n",
    "# db.commit()"
   ]
  },
  {
   "cell_type": "markdown",
   "metadata": {},
   "source": [
    "# Create UCar 論壇的表格"
   ]
  },
  {
   "cell_type": "code",
   "execution_count": 3,
   "metadata": {
    "collapsed": true
   },
   "outputs": [],
   "source": [
    "# import sqlite3\n",
    "# db = sqlite3.connect(\"C:\\\\Users\\\\BIG DATA\\\\Desktop\\\\test\\\\uCarReview.sqlite3\")\n",
    "# cur= db.cursor()\n",
    "# cur.execute(\"CREATE TABLE ucar_review(source text, url text, title text, author text, tm int, hashtag text, content text, replies text, brand text ,reply_no int);\")\n",
    "# db.commit()"
   ]
  },
  {
   "cell_type": "markdown",
   "metadata": {},
   "source": [
    "# Drop UCar 論壇的表格"
   ]
  },
  {
   "cell_type": "code",
   "execution_count": 17,
   "metadata": {
    "collapsed": true
   },
   "outputs": [],
   "source": [
    "# import sqlite3\n",
    "# db = sqlite3.connect(\"./ucareview.sqlite3\")\n",
    "# cur= db.cursor()\n",
    "# cur.execute(\"Drop TABLE ucar_review;\")\n",
    "# db.commit()"
   ]
  }
 ],
 "metadata": {
  "kernelspec": {
   "display_name": "Python 3",
   "language": "python",
   "name": "python3"
  },
  "language_info": {
   "codemirror_mode": {
    "name": "ipython",
    "version": 3
   },
   "file_extension": ".py",
   "mimetype": "text/x-python",
   "name": "python",
   "nbconvert_exporter": "python",
   "pygments_lexer": "ipython3",
   "version": "3.6.1"
  }
 },
 "nbformat": 4,
 "nbformat_minor": 1
}

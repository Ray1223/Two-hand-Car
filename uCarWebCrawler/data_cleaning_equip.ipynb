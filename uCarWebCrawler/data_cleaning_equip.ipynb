{
 "cells": [
  {
   "cell_type": "code",
   "execution_count": 12,
   "metadata": {},
   "outputs": [
    {
     "name": "stdout",
     "output_type": "stream",
     "text": [
      "('UCar', 'https://usedcar.u-car.com.tw/objectdetail.aspx?usedcarid=1f418f07e7dd4003a2a0bd214d3c7d8e', 'FordFocus', 'FORD', 'FOCUS', '鐵灰', 'na', '汽油', 1.6, '手自排', '衛星導航設備|天窗|HID氣體放電頭燈|四輪傳動', 20000, 2014, 'na', 1489655100, '掀背(Hatchback)', '', 'na', '', 0)\n"
     ]
    }
   ],
   "source": [
    "import sqlite3\n",
    "import sys, math\n",
    "conn = sqlite3.connect('E:\\\\PythonWin\\\\workspace\\\\ucarprice.sqlite3')\n",
    "c = conn.cursor()\n",
    "c.execute('select * from ucar_price limit 1;')\n",
    "print(c.fetchone())\n",
    "conn.commit()\n",
    "conn.close()"
   ]
  },
  {
   "cell_type": "code",
   "execution_count": 2,
   "metadata": {
    "collapsed": true
   },
   "outputs": [],
   "source": [
    "import sqlite3\n",
    "import sys, math\n",
    "conn = sqlite3.connect('E:\\\\PythonWin\\\\workspace\\\\ucarprice.db')\n",
    "c = conn.cursor()\n",
    "# for row in c.execute('select * from HOT limit 1;'):\n",
    "data = []\n",
    "for row in c.execute('select * from ucar_price;'):\n",
    "    \n",
    "    data.append(row)\n",
    "    \n",
    "conn.commit()\n",
    "conn.close()\n",
    "\n",
    "before = ['安全氣囊','倒車影像','停車雷達系統','電動後視鏡','HID氣體放電頭燈','天窗','衛星導航設備','影音系統','電動座椅','定速系統','鋁合金輪圈','ABS防鎖死煞車系統',\n",
    "          '真皮座椅','Keyless感應門鎖']\n",
    "after  = ['安全氣囊','倒車影像','倒車雷達','電動後視鏡','HID頭燈','天窗','衛星導航','DVD','電動座椅','定速','鋁圈','ABS','皮椅','keyless免鑰系統']\n"
   ]
  },
  {
   "cell_type": "code",
   "execution_count": 4,
   "metadata": {},
   "outputs": [
    {
     "name": "stdout",
     "output_type": "stream",
     "text": [
      "now goes on4169, which is 100% finished\n",
      "data clean over!\n"
     ]
    }
   ],
   "source": [
    "total = len(data)\n",
    "data_dict = list(zip(before,after))\n",
    "count = 0\n",
    "for each_data in data:\n",
    "    change = each_data[10]\n",
    "    for each_equip in data_dict:    \n",
    "        change = change.replace(each_equip[0],each_equip[1])\n",
    "    printstring = ('now goes on' + str(count) + ', which is ' + str(math.floor(int(count+1)/int(total)*100)) + str('% finished'))\n",
    "    sys.stdout.write('\\r' + printstring )\n",
    "    conn = sqlite3.connect('E:\\\\PythonWin\\\\workspace\\\\ucarprice.db')\n",
    "    c = conn.cursor()\n",
    "    t = (change,each_data[1])\n",
    "    c.execute('UPDATE ucar_price SET equip = ? WHERE url = ?;', t)\n",
    "    conn.commit()\n",
    "    conn.close()\n",
    "    count+=1\n",
    "print('\\n'+'data clean over!')"
   ]
  },
  {
   "cell_type": "code",
   "execution_count": null,
   "metadata": {
    "collapsed": true
   },
   "outputs": [],
   "source": []
  }
 ],
 "metadata": {
  "kernelspec": {
   "display_name": "Python 3",
   "language": "python",
   "name": "python3"
  },
  "language_info": {
   "codemirror_mode": {
    "name": "ipython",
    "version": 3
   },
   "file_extension": ".py",
   "mimetype": "text/x-python",
   "name": "python",
   "nbconvert_exporter": "python",
   "pygments_lexer": "ipython3",
   "version": "3.6.1"
  }
 },
 "nbformat": 4,
 "nbformat_minor": 2
}

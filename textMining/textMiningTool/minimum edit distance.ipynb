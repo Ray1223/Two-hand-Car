{
 "cells": [
  {
   "cell_type": "markdown",
   "metadata": {
    "collapsed": true
   },
   "source": [
    "## 最小編輯距離\n",
    "\n"
   ]
  },
  {
   "cell_type": "code",
   "execution_count": 5,
   "metadata": {},
   "outputs": [
    {
     "data": {
      "text/plain": [
       "['投射', '式', 'HID', '頭燈', '(', '附自動', '水平', '調整', ')', ')']"
      ]
     },
     "execution_count": 5,
     "metadata": {},
     "output_type": "execute_result"
    }
   ],
   "source": [
    "import jieba\n",
    "wdCut = jieba.cut(\"電動折疊車側後視鏡(附LED轉向指示燈/電動除霧功能)\",cut_all=False)\n",
    "strWd = \",\".join(wdCut)\n",
    "strList1 = strWd.split(',')\n",
    "strList1\n",
    "\n",
    "wdCut = jieba.cut(\"投射式HID頭燈(附自動水平調整))\",cut_all=False)\n",
    "strWd = \",\".join(wdCut)\n",
    "strList2 = strWd.split(',')\n",
    "strList2\n",
    "\n"
   ]
  },
  {
   "cell_type": "code",
   "execution_count": 11,
   "metadata": {},
   "outputs": [
    {
     "data": {
      "text/plain": [
       "['電動',\n",
       " '折疊車',\n",
       " '側後視鏡',\n",
       " '(',\n",
       " '附',\n",
       " 'LED',\n",
       " '轉向',\n",
       " '指示',\n",
       " '燈',\n",
       " '/',\n",
       " '電動',\n",
       " '除霧',\n",
       " '功能',\n",
       " ')']"
      ]
     },
     "execution_count": 11,
     "metadata": {},
     "output_type": "execute_result"
    }
   ],
   "source": [
    "strList1"
   ]
  },
  {
   "cell_type": "code",
   "execution_count": 12,
   "metadata": {},
   "outputs": [
    {
     "data": {
      "text/plain": [
       "['投射', '式', 'HID', '頭燈', '(', '附自動', '水平', '調整', ')', ')']"
      ]
     },
     "execution_count": 12,
     "metadata": {},
     "output_type": "execute_result"
    }
   ],
   "source": [
    "strList2"
   ]
  },
  {
   "cell_type": "code",
   "execution_count": 16,
   "metadata": {
    "collapsed": true
   },
   "outputs": [],
   "source": [
    "sm = edit_distance.SequenceMatcher(a=strList1, b=strList2)"
   ]
  },
  {
   "cell_type": "code",
   "execution_count": 15,
   "metadata": {},
   "outputs": [
    {
     "data": {
      "text/plain": [
       "13"
      ]
     },
     "execution_count": 15,
     "metadata": {},
     "output_type": "execute_result"
    }
   ],
   "source": [
    "sm.distance()\n",
    "# sm.matches()"
   ]
  },
  {
   "cell_type": "code",
   "execution_count": 17,
   "metadata": {
    "collapsed": true
   },
   "outputs": [],
   "source": [
    "str1=\"電動折疊車側後視鏡(附LED轉向指示燈/電動除霧功能\"\n",
    "str2=\"投射式HID頭燈(附自動水平調整))\""
   ]
  },
  {
   "cell_type": "code",
   "execution_count": 18,
   "metadata": {
    "collapsed": true
   },
   "outputs": [],
   "source": [
    "sm = edit_distance.SequenceMatcher(a=str1, b=str2)\n"
   ]
  },
  {
   "cell_type": "code",
   "execution_count": 20,
   "metadata": {},
   "outputs": [
    {
     "data": {
      "text/plain": [
       "2"
      ]
     },
     "execution_count": 20,
     "metadata": {},
     "output_type": "execute_result"
    }
   ],
   "source": [
    "sm.distance()\n",
    "# sm.matches()"
   ]
  }
 ],
 "metadata": {
  "kernelspec": {
   "display_name": "Python 3",
   "language": "python",
   "name": "python3"
  },
  "language_info": {
   "codemirror_mode": {
    "name": "ipython",
    "version": 3
   },
   "file_extension": ".py",
   "mimetype": "text/x-python",
   "name": "python",
   "nbconvert_exporter": "python",
   "pygments_lexer": "ipython3",
   "version": "3.6.1"
  }
 },
 "nbformat": 4,
 "nbformat_minor": 2
}

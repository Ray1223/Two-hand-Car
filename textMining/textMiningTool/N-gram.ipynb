{
 "cells": [
  {
   "cell_type": "code",
   "execution_count": 1,
   "metadata": {
    "collapsed": true
   },
   "outputs": [],
   "source": [
    "import codecs\n",
    "#處理編碼的套件\n",
    "import operator\n",
    "##處理字典檔排序的套件\n",
    " \n",
    "\n",
    "text_new =\"\"\n",
    "\n",
    "def cutSentence(string, keywords): ##放入原始文章路徑, 增加斷詞的list\n",
    "#     text = codecs.open(text_path,\"r\",\"utf-8\")   #開檔 #讀取存成TXT檔的文字，讀入後統一轉成UTF-8格式\n",
    "    sentence = \"\"\n",
    "    textList = []\n",
    "       \n",
    "#     for line in text.readlines():\n",
    "#         line = line.strip() ##清除空白\n",
    "\n",
    "    line = string\n",
    "        \n",
    "    for keyword in keywords:  #清除關鍵字\n",
    "        line = \"\".join(line.split(keyword))\n",
    "\n",
    "    for word in line:\n",
    "        if word not in cutlist: #如果文字不是標點符號，就把字加到句子中\n",
    "            sentence += word\n",
    "            #print sentence\n",
    "        else:\n",
    "            textList.append(sentence) #如果遇到標點符號，把句子加到 text list中\n",
    "            sentence = \"\"\n",
    "            #print textList\n",
    "    return textList#傳回一個文字陣列"
   ]
  },
  {
   "cell_type": "code",
   "execution_count": 2,
   "metadata": {
    "collapsed": true
   },
   "outputs": [],
   "source": [
    "def ngram(textLists,n,minFreq): #第一個參數放處理好的文章(LIST檔，utf-8編碼)，第二個參數放字詞的長度單位，第三個參數放至少要幾次以上\n",
    " \n",
    "    words=[]     #存放擷取出來的字詞\n",
    "    words_freq={}#存放字詞:計算個數 \n",
    "    result= []\n",
    "    for textList in textLists:\n",
    "        for w in range(len(textList)-(n-1)): #要讀取的長度隨字詞長度改變\n",
    "            words.append(textList[w:w+n]) #抓取長度w-(n-1)的字串\n",
    "\n",
    "    for word in words:\n",
    "        if word not in words_freq:               #如果這個字詞還沒有被放在字典檔中\n",
    "            words_freq[word] = words.count(word) #就開一個新的字詞，裡面放入字詞計算的頻次\n",
    " \n",
    "    words_freq = sorted(words_freq.items(),key=operator.itemgetter(1),reverse=True) #change words_freq from dict to list \n",
    "    \n",
    "    for word in words_freq:\n",
    "        if word[1] >= minFreq:\n",
    "            result.append(word)\n",
    "            \n",
    "    return result ##回傳一個陣列[詞,頻次]"
   ]
  },
  {
   "cell_type": "code",
   "execution_count": 3,
   "metadata": {
    "collapsed": true
   },
   "outputs": [],
   "source": [
    "def longTermPriority(string, maxTermLength, minFreq):\n",
    "    longTerms=[]          #長詞\n",
    "    longTermsFreq=[]      #長詞+次數分配\n",
    "    \n",
    "    for i in range(maxTermLength,1,-1):\n",
    "        text_list = cutSentence(string,longTerms)\n",
    "#         print len(text_list)\n",
    "        words_freq = ngram(text_list,i, minFreq)\n",
    "        #print i\n",
    "\n",
    "    \n",
    "        for word_freq in words_freq:\n",
    "            longTerms.append(word_freq[0])\n",
    "            #print word_freq[0]\n",
    "            longTermsFreq.append(word_freq) \n",
    "            #print word_freq\n",
    "\n",
    "        return longTermsFreq"
   ]
  },
  {
   "cell_type": "code",
   "execution_count": 5,
   "metadata": {
    "scrolled": true
   },
   "outputs": [
    {
     "name": "stdout",
     "output_type": "stream",
     "text": [
      "[('     ', 184), ('.....', 25), ('civic', 12), ('行車記錄器', 11)]\n"
     ]
    }
   ],
   "source": [
    "from pymongo import MongoClient\n",
    "\n",
    "IP = 'localhost'\n",
    "client = MongoClient(IP, 27017)\n",
    "\n",
    "# Select database\n",
    "db = client.test\n",
    "\n",
    "# Select collection\n",
    "collection = db.test\n",
    "\n",
    "datas = collection.find()\n",
    "with open(\"E:\\\\PythonWin\\\\workspace\\\\dict\\\\uselessDict\\\\specialSignList.txt\",\"r\",encoding='utf-8') as fr:\n",
    "    stopWd = fr.read().strip().split('\\n')\n",
    "    cutlist = [signal for signal in stopWd if len(stopWd) > 0]\n",
    "\n",
    "total_word=\"\"\n",
    "for idx, data in enumerate(datas):\n",
    "    if idx <100:\n",
    "        data['content'] = data['content'].lower().replace('-', '_')\n",
    "        total_word += data['content']\n",
    "#         print(data['content'])\n",
    "#         print(total_word)\n",
    "longTermFreq = longTermPriority(total_word,5,10) \n",
    "print(longTermFreq)\n",
    "\n",
    "# with open(u\"E:\\\\PythonWin\\\\workspace\\\\ucartitle_test2.csv\",'w',encoding='utf-8') as fw:\n",
    "#     for k,v in longTermFreq:\n",
    "#         fw.write(\"{},{}\".format(k,v)+'\\n')"
   ]
  },
  {
   "cell_type": "code",
   "execution_count": null,
   "metadata": {
    "collapsed": true
   },
   "outputs": [],
   "source": [
    "with open(u\"E:\\\\PythonWin\\\\workspace\\\\1Wd.csv\",'w') as fw:\n",
    "    for k,v in longTermFreq:\n",
    "        fw.write(\"{},{}\".format(k,v)+'\\n')"
   ]
  },
  {
   "cell_type": "code",
   "execution_count": null,
   "metadata": {
    "collapsed": true
   },
   "outputs": [],
   "source": [
    "with open(\"E:\\\\PythonWin\\\\workspace\\\\dict\\\\uselessDict\\\\specialSignList.txt\",\"r\",encoding='utf-8') as fr:\n",
    "    stopWd = fr.read().strip().split('\\n')\n",
    "    cutlist = [signal for signal in stopWd if len(signal) > 0]\n",
    "print(cutlist)"
   ]
  }
 ],
 "metadata": {
  "kernelspec": {
   "display_name": "Python 3",
   "language": "python",
   "name": "python3"
  },
  "language_info": {
   "codemirror_mode": {
    "name": "ipython",
    "version": 3
   },
   "file_extension": ".py",
   "mimetype": "text/x-python",
   "name": "python",
   "nbconvert_exporter": "python",
   "pygments_lexer": "ipython3",
   "version": "3.6.1"
  }
 },
 "nbformat": 4,
 "nbformat_minor": 1
}
